{
 "cells": [
  {
   "cell_type": "code",
   "execution_count": 1,
   "id": "888d0190",
   "metadata": {},
   "outputs": [],
   "source": [
    "# QUES1\n",
    "# DATABASE is an organised collection of data that it can be easily accessed and managed\n",
    "# sql - structured query language , alse known as relational database management system, which have fixed and static or pre- defined schema\n",
    "# nosql - not only sequel , also known as non- relational or distributed database management system, which have dynamic schema"
   ]
  },
  {
   "cell_type": "code",
   "execution_count": 3,
   "id": "5e53bb98",
   "metadata": {},
   "outputs": [
    {
     "data": {
      "text/plain": [
       "'\\nques2 - DDL - data definition language is a subset of sql. It is a language fro describing data and its relationships in a database.\\ncreate table = is used to create table in the database\\nalter table - is used to add, delete, or modify columns in a table\\ndrop table - is used to delete table from the database\\ntruncate table - used to delete the data inside the table, but not the table itself\\n'"
      ]
     },
     "execution_count": 3,
     "metadata": {},
     "output_type": "execute_result"
    }
   ],
   "source": [
    "'''\n",
    "ques2 - DDL - data definition language is a subset of sql. It is a language fro describing data and its relationships in a database.\n",
    "create table = is used to create table in the database\n",
    "alter table - is used to add, delete, or modify columns in a table\n",
    "drop table - is used to delete table from the database\n",
    "truncate table - used to delete the data inside the table, but not the table itself\n",
    "'''"
   ]
  },
  {
   "cell_type": "code",
   "execution_count": 4,
   "id": "7dfe410a",
   "metadata": {},
   "outputs": [
    {
     "name": "stdout",
     "output_type": "stream",
     "text": [
      "Collecting ipython-sql\n",
      "  Downloading ipython_sql-0.5.0-py3-none-any.whl (20 kB)\n",
      "Requirement already satisfied: six in c:\\users\\user\\anaconda3\\lib\\site-packages (from ipython-sql) (1.16.0)\n",
      "Requirement already satisfied: ipython-genutils in c:\\users\\user\\anaconda3\\lib\\site-packages (from ipython-sql) (0.2.0)\n",
      "Requirement already satisfied: ipython in c:\\users\\user\\anaconda3\\lib\\site-packages (from ipython-sql) (8.10.0)\n",
      "Collecting prettytable\n",
      "  Downloading prettytable-3.6.0-py3-none-any.whl (27 kB)\n",
      "Collecting sqlalchemy>=2.0\n",
      "  Downloading SQLAlchemy-2.0.8-cp310-cp310-win_amd64.whl (2.0 MB)\n",
      "     ---------------------------------------- 2.0/2.0 MB 938.8 kB/s eta 0:00:00\n",
      "Collecting sqlparse\n",
      "  Downloading sqlparse-0.4.3-py3-none-any.whl (42 kB)\n",
      "     -------------------------------------- 42.8/42.8 kB 208.5 kB/s eta 0:00:00\n",
      "Requirement already satisfied: greenlet!=0.4.17 in c:\\users\\user\\anaconda3\\lib\\site-packages (from sqlalchemy>=2.0->ipython-sql) (2.0.1)\n",
      "Requirement already satisfied: typing-extensions>=4.2.0 in c:\\users\\user\\anaconda3\\lib\\site-packages (from sqlalchemy>=2.0->ipython-sql) (4.4.0)\n",
      "Requirement already satisfied: colorama in c:\\users\\user\\anaconda3\\lib\\site-packages (from ipython->ipython-sql) (0.4.6)\n",
      "Requirement already satisfied: stack-data in c:\\users\\user\\anaconda3\\lib\\site-packages (from ipython->ipython-sql) (0.2.0)\n",
      "Requirement already satisfied: pickleshare in c:\\users\\user\\anaconda3\\lib\\site-packages (from ipython->ipython-sql) (0.7.5)\n",
      "Requirement already satisfied: jedi>=0.16 in c:\\users\\user\\anaconda3\\lib\\site-packages (from ipython->ipython-sql) (0.18.1)\n",
      "Requirement already satisfied: decorator in c:\\users\\user\\anaconda3\\lib\\site-packages (from ipython->ipython-sql) (5.1.1)\n",
      "Requirement already satisfied: pygments>=2.4.0 in c:\\users\\user\\anaconda3\\lib\\site-packages (from ipython->ipython-sql) (2.11.2)\n",
      "Requirement already satisfied: traitlets>=5 in c:\\users\\user\\anaconda3\\lib\\site-packages (from ipython->ipython-sql) (5.7.1)\n",
      "Requirement already satisfied: matplotlib-inline in c:\\users\\user\\anaconda3\\lib\\site-packages (from ipython->ipython-sql) (0.1.6)\n",
      "Requirement already satisfied: backcall in c:\\users\\user\\anaconda3\\lib\\site-packages (from ipython->ipython-sql) (0.2.0)\n",
      "Requirement already satisfied: prompt-toolkit<3.1.0,>=3.0.30 in c:\\users\\user\\anaconda3\\lib\\site-packages (from ipython->ipython-sql) (3.0.36)\n",
      "Requirement already satisfied: wcwidth in c:\\users\\user\\anaconda3\\lib\\site-packages (from prettytable->ipython-sql) (0.2.5)\n",
      "Requirement already satisfied: parso<0.9.0,>=0.8.0 in c:\\users\\user\\anaconda3\\lib\\site-packages (from jedi>=0.16->ipython->ipython-sql) (0.8.3)\n",
      "Requirement already satisfied: asttokens in c:\\users\\user\\anaconda3\\lib\\site-packages (from stack-data->ipython->ipython-sql) (2.0.5)\n",
      "Requirement already satisfied: pure-eval in c:\\users\\user\\anaconda3\\lib\\site-packages (from stack-data->ipython->ipython-sql) (0.2.2)\n",
      "Requirement already satisfied: executing in c:\\users\\user\\anaconda3\\lib\\site-packages (from stack-data->ipython->ipython-sql) (0.8.3)\n",
      "Installing collected packages: sqlparse, sqlalchemy, prettytable, ipython-sql\n",
      "  Attempting uninstall: sqlalchemy\n",
      "    Found existing installation: SQLAlchemy 1.4.39\n",
      "    Uninstalling SQLAlchemy-1.4.39:\n",
      "      Successfully uninstalled SQLAlchemy-1.4.39\n",
      "Successfully installed ipython-sql-0.5.0 prettytable-3.6.0 sqlalchemy-2.0.8 sqlparse-0.4.3\n"
     ]
    }
   ],
   "source": [
    "!pip install ipython-sql"
   ]
  },
  {
   "cell_type": "code",
   "execution_count": 5,
   "id": "f76fdc54",
   "metadata": {},
   "outputs": [],
   "source": [
    "%load_ext sql"
   ]
  },
  {
   "cell_type": "code",
   "execution_count": 6,
   "id": "6358ee39",
   "metadata": {},
   "outputs": [],
   "source": [
    "%sql sqlite://"
   ]
  },
  {
   "cell_type": "code",
   "execution_count": 14,
   "id": "2dfa382b",
   "metadata": {},
   "outputs": [
    {
     "name": "stdout",
     "output_type": "stream",
     "text": [
      " * sqlite://\n",
      "Done.\n"
     ]
    },
    {
     "data": {
      "text/plain": [
       "[]"
      ]
     },
     "execution_count": 14,
     "metadata": {},
     "output_type": "execute_result"
    }
   ],
   "source": [
    "%%sql\n",
    "CREATE TABLE people (\n",
    "personID int, lastname varchar(50) , firstname varchar(50) , city varchar(30));"
   ]
  },
  {
   "cell_type": "code",
   "execution_count": 15,
   "id": "3517e0e6",
   "metadata": {},
   "outputs": [
    {
     "name": "stdout",
     "output_type": "stream",
     "text": [
      " * sqlite://\n",
      "Done.\n",
      "Done.\n"
     ]
    },
    {
     "data": {
      "text/plain": [
       "[]"
      ]
     },
     "execution_count": 15,
     "metadata": {},
     "output_type": "execute_result"
    }
   ],
   "source": [
    "%%sql\n",
    "ALTER TABLE people \n",
    "ADD ph_number varchar(10);\n",
    "ALTER TABLE people\n",
    "DROP COLUMN city;"
   ]
  },
  {
   "cell_type": "code",
   "execution_count": 20,
   "id": "d2ac63f6",
   "metadata": {},
   "outputs": [
    {
     "name": "stdout",
     "output_type": "stream",
     "text": [
      " * sqlite://\n",
      "Done.\n"
     ]
    },
    {
     "data": {
      "text/plain": [
       "[]"
      ]
     },
     "execution_count": 20,
     "metadata": {},
     "output_type": "execute_result"
    }
   ],
   "source": [
    "%%sql\n",
    "DROP TABLE people ; "
   ]
  },
  {
   "cell_type": "code",
   "execution_count": 21,
   "id": "3eea8518",
   "metadata": {},
   "outputs": [],
   "source": [
    "# to truncate \n",
    "# TRUNCATE TABLE people ;"
   ]
  },
  {
   "cell_type": "code",
   "execution_count": 22,
   "id": "361e4949",
   "metadata": {},
   "outputs": [
    {
     "data": {
      "text/plain": [
       "'\\nupdate - to insert data into rows of the table\\ninsert - used to update single and multiple columns on the basis of our specific needs\\ndelete - used to delete various records from a given table\\n'"
      ]
     },
     "execution_count": 22,
     "metadata": {},
     "output_type": "execute_result"
    }
   ],
   "source": [
    "#ques3 DML - DATA MANUPULATION LANGUAGE , refers to computer language that allows you to INSERT, DELETE , UPDATE in a database.\n",
    "'''\n",
    "update - to insert data into rows of the table\n",
    "insert - used to update single and multiple columns on the basis of our specific needs\n",
    "delete - used to delete various records from a given table\n",
    "'''"
   ]
  },
  {
   "cell_type": "code",
   "execution_count": 27,
   "id": "dd209930",
   "metadata": {},
   "outputs": [
    {
     "data": {
      "text/plain": [
       "'\\nCREATE TABLE student;\\nINSERT INTO student(\\npersonID int, lastname varchar(50) , firstname varchar(50) , city varchar(30))\\nVALUES (101 , RAI ,ANJALI , KOLKATA);\\n\\n\\n\\n'"
      ]
     },
     "execution_count": 27,
     "metadata": {},
     "output_type": "execute_result"
    }
   ],
   "source": [
    "'''\n",
    "CREATE TABLE student;\n",
    "INSERT INTO student(\n",
    "personID int, lastname varchar(50) , firstname varchar(50) , city varchar(30))\n",
    "VALUES (101 , RAI ,ANJALI , KOLKATA);\n",
    "\n",
    "\n",
    "\n",
    "'''"
   ]
  },
  {
   "cell_type": "code",
   "execution_count": null,
   "id": "e2266821",
   "metadata": {},
   "outputs": [],
   "source": [
    "'''\n",
    "UPDATE TABLE student\n",
    "SET lastname = singh where personID i= 101 ;\n",
    "\n",
    "'''"
   ]
  },
  {
   "cell_type": "code",
   "execution_count": null,
   "id": "33954550",
   "metadata": {},
   "outputs": [],
   "source": [
    "'''\n",
    "DELETE FROM student where personID = 101;\n",
    "'''"
   ]
  },
  {
   "cell_type": "code",
   "execution_count": null,
   "id": "193a869f",
   "metadata": {},
   "outputs": [],
   "source": [
    "'''\n",
    "ques5\n",
    "DQL - Data query language,  DQL is a portion of a SQL statement that allows you to get and organise data from a database. \n",
    "Select command is used to fetch the data in a set of records from a table, view or a group of tables, views by making use of SQL joins.\n",
    "example-\n",
    "select * from students where personID= 101\n",
    "'''"
   ]
  },
  {
   "cell_type": "code",
   "execution_count": null,
   "id": "d354511a",
   "metadata": {},
   "outputs": [],
   "source": [
    "'''\n",
    "ques6\n",
    "A primary key is used to ensure that data in the specific column is unique. A column cannot have NULL values\n",
    "A foreign key is a column or group of columns in a relational database table that provides a link between data in two tables. \n",
    "'''"
   ]
  },
  {
   "cell_type": "code",
   "execution_count": null,
   "id": "7da1e093",
   "metadata": {},
   "outputs": [],
   "source": [
    "'''\n",
    "ques7\n",
    "import mysql.connector\n",
    "mydb = mysql.connector.connect(\n",
    "host = \"localhost\" ,\n",
    "user = \"abc\" ,\n",
    "password = \"password\")\n",
    "\n",
    "print(mydb)\n",
    "mycursor.mydb.cursor()\n",
    "mycursor.execute(\"command\")\n",
    "\n",
    "'''"
   ]
  },
  {
   "cell_type": "code",
   "execution_count": null,
   "id": "8e535ea5",
   "metadata": {},
   "outputs": [],
   "source": [
    "#A cursor is an object which helps to execute the query and fetch the records from the database. \n",
    "#The execute () method helps us to execute the query and return records according to the query."
   ]
  },
  {
   "cell_type": "code",
   "execution_count": null,
   "id": "a0034eca",
   "metadata": {},
   "outputs": [],
   "source": [
    "'''\n",
    "ques8\n",
    "from / join\n",
    "where\n",
    "group by \n",
    "having\n",
    "order by\n",
    "limit\n",
    "'''"
   ]
  }
 ],
 "metadata": {
  "kernelspec": {
   "display_name": "Python 3 (ipykernel)",
   "language": "python",
   "name": "python3"
  },
  "language_info": {
   "codemirror_mode": {
    "name": "ipython",
    "version": 3
   },
   "file_extension": ".py",
   "mimetype": "text/x-python",
   "name": "python",
   "nbconvert_exporter": "python",
   "pygments_lexer": "ipython3",
   "version": "3.10.9"
  }
 },
 "nbformat": 4,
 "nbformat_minor": 5
}
